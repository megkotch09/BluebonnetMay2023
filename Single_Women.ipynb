{
  "nbformat": 4,
  "nbformat_minor": 0,
  "metadata": {
    "colab": {
      "provenance": [],
      "authorship_tag": "ABX9TyM3fbli7jrA4KTDPnuY+y8n",
      "include_colab_link": true
    },
    "kernelspec": {
      "name": "python3",
      "display_name": "Python 3"
    },
    "language_info": {
      "name": "python"
    }
  },
  "cells": [
    {
      "cell_type": "markdown",
      "metadata": {
        "id": "view-in-github",
        "colab_type": "text"
      },
      "source": [
        "<a href=\"https://colab.research.google.com/github/megkotch09/BluebonnetMay2023/blob/main/Single_Women.ipynb\" target=\"_parent\"><img src=\"https://colab.research.google.com/assets/colab-badge.svg\" alt=\"Open In Colab\"/></a>"
      ]
    },
    {
      "cell_type": "code",
      "execution_count": null,
      "metadata": {
        "id": "v_2byiZy9pGP"
      },
      "outputs": [],
      "source": [
        "!pip install geopandas\n",
        "!pip install matplotlib\n",
        "!pip install folium\n",
        "!pip install requests\n",
        "\n",
        "import pandas as pd\n",
        "import geopandas as gpd\n",
        "import folium\n",
        "import requests\n",
        "import os\n",
        "import numbers\n",
        "import math\n",
        "\n",
        "from google.colab import drive\n",
        "drive.mount('/content/drive')"
      ]
    },
    {
      "cell_type": "code",
      "source": [
        "# Set your Census Bureau API key\n",
        "api_key = \"8a0b76a97aa387f1d801ca752ec8983574f5c307\"\n",
        "\n",
        "# Set the base URL for the API\n",
        "base_url = \"https://api.census.gov/data\"\n",
        "\n",
        "# Set the variables you want to retrieve\n",
        "variables = [\"B12002_095E\", \"B12002_126E\", \"B12002_157E\", \"B12002_172E\"]\n",
        "\n",
        "# Set the geographic parameters\n",
        "state_fips = \"37\"  # FIPS code\n",
        "\n",
        "# Construct the API request URL with parameters\n",
        "api_url = base_url + \"/2021/acs/acs5?get=\" + \",\".join(variables) + \"&for=county%20subdivision:*&in=state:\" + state_fips + \"&key=\" + api_key\n",
        "\n",
        "# Send the request and get the response\n",
        "response = requests.get(api_url)\n",
        "\n",
        "# Parse the response data (assuming it's in JSON format)\n",
        "data = response.json()\n",
        "\n",
        "#print(data)"
      ],
      "metadata": {
        "id": "YyTEsjpT-Rn9"
      },
      "execution_count": null,
      "outputs": []
    },
    {
      "cell_type": "code",
      "source": [
        "# Extract the variable names from the first row of the response\n",
        "headers = data[0]\n",
        "\n",
        "# Extract the data values from the second row of the response\n",
        "rows = data[1:]\n",
        "\n",
        "# Map the variable names to their corresponding values\n",
        "df = pd.DataFrame(rows, columns=headers)\n",
        "\n",
        "#display(df) # yas slay queen\n",
        "\n",
        "df['ALL'] = df['state'] + df['county'] + df['county subdivision']\n",
        "\n",
        "df = df.astype(int)\n",
        "\n",
        "df['Total'] = df['B12002_095E'] + df['B12002_126E'] + df['B12002_157E'] + df['B12002_172E']\n",
        "\n",
        "#df.drop(df.columns[[0, 1, 2, 3, 4, 5, 6, 7, 8, 9, 10, 11, 12]], axis=1, inplace=True)\n",
        "#print(df)"
      ],
      "metadata": {
        "id": "Iu0X_8W0-X-u"
      },
      "execution_count": null,
      "outputs": []
    },
    {
      "cell_type": "code",
      "source": [
        "# Load shapefile data (left sidebar!!)\n",
        "shapefile_path = \"/content/drive/MyDrive/GT/bluebonnet!!/mine - april 2023/North Carolina/cb_2022_37_cousub_500k/cb_2022_37_cousub_500k.shp\"\n",
        "\n",
        "shapefile = gpd.read_file(shapefile_path)\n",
        "\n",
        "shapefile.drop(shapefile.columns[[3, 4, 6, 7, 8, 9, 10]], axis=1, inplace=True)\n",
        "\n",
        "#print(shapefile)\n",
        "\n",
        "json = shapefile.to_json()\n",
        "\n",
        "df = df.astype(int)\n",
        "shapefile['GEOID'] = shapefile['GEOID'].astype(int)"
      ],
      "metadata": {
        "id": "ccVTNC__-b_B"
      },
      "execution_count": null,
      "outputs": []
    },
    {
      "cell_type": "code",
      "source": [
        "merged_data = shapefile.merge(df, left_on=\"GEOID\", right_on=\"ALL\", how=\"left\")\n",
        "#print(merged_data)\n",
        "\n",
        "#df['ALL'] corresponds to shapefile['GEOID']"
      ],
      "metadata": {
        "id": "ghmg1HO2-lLo"
      },
      "execution_count": null,
      "outputs": []
    },
    {
      "cell_type": "code",
      "source": [
        "# Create a base map centered\n",
        "map_center = [35.6301, -79.8064]  # Latitude and longitude\n",
        "m = folium.Map(location=map_center, zoom_start=7)\n",
        "bins = generate_bins(15)"
      ],
      "metadata": {
        "id": "bWSD_D-2-ofd"
      },
      "execution_count": null,
      "outputs": []
    },
    {
      "cell_type": "code",
      "source": [
        "# Overlay the demographic data as a choropleth map\n",
        "folium.Choropleth(\n",
        "    geo_data=json, #this is supposed to be a json file\n",
        "    name=\"choropleth\",\n",
        "    data=merged_data, #this is supposed to be a dataframe\n",
        "    columns=[\"ALL\", \"Total\"],\n",
        "    key_on=\"feature.properties.GEOID\",\n",
        "    fill_color=\"Spectral\",\n",
        "    fill_opacity=0.9,\n",
        "    line_opacity=0.2,\n",
        "    legend_name=\"Population\",\n",
        "    bins=bins\n",
        ").add_to(m)\n",
        "\n",
        "folium.LayerControl().add_to(m)\n",
        "\n",
        "# Display the map\n",
        "#m.save(\"new_hampshire_demographics_map.html\")\n",
        "\n",
        "m"
      ],
      "metadata": {
        "id": "NXTB00U9-t9W"
      },
      "execution_count": null,
      "outputs": []
    },
    {
      "cell_type": "code",
      "source": [
        "def generate_bins(nbins):\n",
        "  quantiles = []\n",
        "  for i in range(0, nbins+1):\n",
        "    quantiles.append(i/nbins)\n",
        "\n",
        "  bins = list(df['Total'].quantile(quantiles))\n",
        "\n",
        "  return bins"
      ],
      "metadata": {
        "id": "WoCm2AL9XNxM"
      },
      "execution_count": null,
      "outputs": []
    }
  ]
}