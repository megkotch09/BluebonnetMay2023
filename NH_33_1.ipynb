{
  "nbformat": 4,
  "nbformat_minor": 0,
  "metadata": {
    "colab": {
      "provenance": [],
      "authorship_tag": "ABX9TyMa1z08oa/1atJjkwuU9Yvd",
      "include_colab_link": true
    },
    "kernelspec": {
      "name": "python3",
      "display_name": "Python 3"
    },
    "language_info": {
      "name": "python"
    }
  },
  "cells": [
    {
      "cell_type": "markdown",
      "metadata": {
        "id": "view-in-github",
        "colab_type": "text"
      },
      "source": [
        "<a href=\"https://colab.research.google.com/github/megkotch09/BluebonnetMay2023/blob/main/NH_33_1.ipynb\" target=\"_parent\"><img src=\"https://colab.research.google.com/assets/colab-badge.svg\" alt=\"Open In Colab\"/></a>"
      ]
    },
    {
      "cell_type": "code",
      "execution_count": null,
      "metadata": {
        "id": "Z4VERXbRyAr-"
      },
      "outputs": [],
      "source": [
        "!pip install geopandas\n",
        "!pip install matplotlib\n",
        "!pip install folium\n",
        "!pip install requests\n",
        "\n",
        "import pandas as pd\n",
        "import geopandas as gpd\n",
        "import folium\n",
        "import requests\n",
        "import os\n",
        "import numbers\n",
        "import math\n",
        "\n",
        "from google.colab import drive\n",
        "drive.mount('/content/drive')"
      ]
    },
    {
      "cell_type": "code",
      "source": [
        "# Set your Census Bureau API key\n",
        "api_key = \"8a0b76a97aa387f1d801ca752ec8983574f5c307\"\n",
        "\n",
        "# Set the base URL for the API\n",
        "base_url = \"https://api.census.gov/data\"\n",
        "\n",
        "# Set the variables you want to retrieve\n",
        "variables = [\"B01001_001E\", \"B02001_002E\", \"B03002_012E\", \"B02015_002E\", \"B02015_003E\"]  # Example variables (total population, white population, Hispanic population)\n",
        "\n",
        "# Set the geographic parameters for New Hampshire\n",
        "state_fips = \"33\"  # New Hampshire FIPS code\n",
        "\n",
        "# Construct the API request URL with parameters\n",
        "api_url = base_url + \"/2021/acs/acs5?get=\" + \",\".join(variables) + \"&for=state:\" + state_fips + \"&key=\" + api_key\n",
        "\n",
        "# Send the request and get the response\n",
        "response = requests.get(api_url)\n",
        "\n",
        "# Parse the response data (assuming it's in JSON format)\n",
        "data = response.json()"
      ],
      "metadata": {
        "id": "M827GasLuBMy"
      },
      "execution_count": null,
      "outputs": []
    },
    {
      "cell_type": "code",
      "source": [
        "# Extract the variable names from the first row of the response\n",
        "headers = [\"Total\", \"White\", \"Hispanic\", \"Asian Indian\", \"Bangladeshi\", \"State\"]\n",
        "\n",
        "# Extract the data values from the second row of the response\n",
        "rows = data[1:]\n",
        "\n",
        "# Map the variable names to their corresponding values\n",
        "df = pd.DataFrame(rows, columns=headers)\n",
        "\n",
        "#print(df.head()) # yas slay queen"
      ],
      "metadata": {
        "id": "q9xt11B2uL0M"
      },
      "execution_count": null,
      "outputs": []
    },
    {
      "cell_type": "code",
      "source": [
        "# Load shapefile data (left sidebar!!)\n",
        "shapefile_path = \"/content/drive/MyDrive/GT/bluebonnet!!/mine - april 2023/New Hampshire/cb_2022_33_bg_500k/cb_2022_33_bg_500k.shp\"\n",
        "\n",
        "shapefile = gpd.read_file(shapefile_path)\n",
        "\n",
        "shapefile.drop(shapefile.columns[[4, 7, 8]], axis=1, inplace=True)\n",
        "\n",
        "shapefile['BOTH'] = shapefile['STATEFP'] + shapefile['COUNTYFP']\n",
        "\n",
        "json = shapefile.to_json()\n",
        "\n",
        "df = df.astype(float)"
      ],
      "metadata": {
        "id": "Gy-am_K-1FKs"
      },
      "execution_count": null,
      "outputs": []
    },
    {
      "cell_type": "code",
      "source": [
        "# Create a base map centered at New Hampshire\n",
        "map_center = [43.9654, -71.4742]  # Latitude and longitude of New Hampshire\n",
        "m = folium.Map(location=map_center, zoom_start=8)"
      ],
      "metadata": {
        "id": "LK8wYEoWAcHd"
      },
      "execution_count": null,
      "outputs": []
    },
    {
      "cell_type": "code",
      "source": [
        "# Overlay the demographic data as a choropleth map\n",
        "folium.Choropleth(\n",
        "    geo_data=json, #this is supposed to be a json file\n",
        "    name=\"choropleth\",\n",
        "    data=df, #this is supposed to be a dataframe\n",
        "    #columns=[\"State\", \"Total\", \"White\", \"Hispanic\", \"Asian Indian\", \"Bangladeshi\"],\n",
        "    columns=[\"State\", \"Hispanic\"],\n",
        "    key_on=\"feature.properties.STATEFP\",\n",
        "    fill_color=\"YlGnBu\",\n",
        "    fill_opacity=0.7,\n",
        "    line_opacity=0.2,\n",
        "    legend_name=\"Population\"\n",
        ").add_to(m)\n",
        "\n",
        "folium.LayerControl().add_to(m)\n",
        "\n",
        "# Display the map\n",
        "#m.save(\"new_hampshire_demographics_map.html\")\n",
        "\n",
        "m"
      ],
      "metadata": {
        "id": "5MlXLHB3wsPT"
      },
      "execution_count": null,
      "outputs": []
    }
  ]
}